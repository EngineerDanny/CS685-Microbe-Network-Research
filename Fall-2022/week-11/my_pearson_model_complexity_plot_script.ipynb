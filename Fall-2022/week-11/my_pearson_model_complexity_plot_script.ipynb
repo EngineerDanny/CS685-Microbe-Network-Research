{
 "cells": [
  {
   "cell_type": "code",
   "execution_count": 2,
   "metadata": {},
   "outputs": [],
   "source": [
    "# Combine the csv files into one file\n",
    "# The csv files are from this current directory\n",
    "import glob\n",
    "import os\n",
    "import pandas as pd\n",
    "import numpy as np\n",
    "import plotnine as p9"
   ]
  },
  {
   "cell_type": "code",
   "execution_count": 3,
   "metadata": {},
   "outputs": [],
   "source": [
    "my_pearson_test_err_df = pd.read_csv(\"./my_pearson_test_error_df.csv\")    \n",
    "  # Make a new dataframe with column names `# of Samples`, `Mean Squared Error`, `Mean Absolute Error`\n",
    "new_dataframe = pd.DataFrame()"
   ]
  },
  {
   "cell_type": "code",
   "execution_count": 5,
   "metadata": {},
   "outputs": [],
   "source": [
    "list_of_n_threshold = [0, 0.1, 0.2, 0.3, 0.4, 0.5, 0.6, 0.7, 0.8, 0.9, 1]\n",
    "set_name_list = ['subtrain', 'validation']\n",
    "\n",
    "test_error_df_list = []\n",
    "for n_threshold in list_of_n_threshold:\n",
    "    for set_name in set_name_list:\n",
    "        filtered_csv = my_pearson_test_err_df.loc[(my_pearson_test_err_df['threshold'] == n_threshold) & (my_pearson_test_err_df['set_name'] == set_name)]\n",
    "            \n",
    "        mean_mse = filtered_csv['loss'].mean()\n",
    "\n",
    "        test_error_dict = {'Threshold': n_threshold,\n",
    "                            'Mean Squared Error': mean_mse,\n",
    "                            \"Set Name\": set_name,\n",
    "                            \"Dataset\": \"Amgut1\",\n",
    "                            'Algorithm': 'Pearson Correlation',\n",
    "                            }\n",
    "        test_error_df_list.append(pd.DataFrame(test_error_dict, index=[0]))\n",
    "    \n",
    "\n",
    "new_dataframe = pd.concat(test_error_df_list)"
   ]
  },
  {
   "cell_type": "code",
   "execution_count": 11,
   "metadata": {},
   "outputs": [
    {
     "name": "stderr",
     "output_type": "stream",
     "text": [
      "/home/da2343/.conda/envs/cs685/lib/python3.9/site-packages/plotnine/ggplot.py:718: PlotnineWarning: Saving 6.4 x 4.8 in image.\n",
      "/home/da2343/.conda/envs/cs685/lib/python3.9/site-packages/plotnine/ggplot.py:719: PlotnineWarning: Filename: ./my_pearson_plus_model_complexity.png\n"
     ]
    }
   ],
   "source": [
    "gg = p9.ggplot(new_dataframe) +\\\n",
    "    p9.aes(x='Threshold', y='Mean Squared Error', color = 'Set Name') +\\\n",
    "    p9.scale_x_reverse() +\\\n",
    "    p9.xlab(\"Threshold\") +\\\n",
    "    p9.ylab(\"loss\") +\\\n",
    "    p9.geom_line() +\\\n",
    "    p9.ggtitle(\"Pearson Correlation Multi-Col Model Complexity\") \n",
    " \n",
    "gg.save(\"./my_pearson_plus_model_complexity.png\")"
   ]
  }
 ],
 "metadata": {
  "kernelspec": {
   "display_name": "cs685",
   "language": "python",
   "name": "python3"
  },
  "language_info": {
   "codemirror_mode": {
    "name": "ipython",
    "version": 3
   },
   "file_extension": ".py",
   "mimetype": "text/x-python",
   "name": "python",
   "nbconvert_exporter": "python",
   "pygments_lexer": "ipython3",
   "version": "3.9.13"
  },
  "orig_nbformat": 4,
  "vscode": {
   "interpreter": {
    "hash": "6c51af742e141fb8ae370995bc6149e53fca1868e122616bc9da9e07ef681ffa"
   }
  }
 },
 "nbformat": 4,
 "nbformat_minor": 2
}
