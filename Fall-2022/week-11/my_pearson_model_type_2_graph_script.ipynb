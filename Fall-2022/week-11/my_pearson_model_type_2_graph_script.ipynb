{
 "cells": [
  {
   "cell_type": "code",
   "execution_count": 2,
   "metadata": {},
   "outputs": [],
   "source": [
    "# Combine the csv files into one file\n",
    "# The csv files are from this current directory\n",
    "import glob\n",
    "import os\n",
    "import pandas as pd\n",
    "import numpy as np\n",
    "import plotnine as p9"
   ]
  },
  {
   "cell_type": "code",
   "execution_count": 5,
   "metadata": {},
   "outputs": [],
   "source": [
    "my_lasso_results_df = pd.read_csv(\"./my_pearson_algorithm_model_T2_2022-11-10_results.csv\")    \n",
    "  # Make a new dataframe with column names `# of Samples`, `Mean Squared Error`, `Mean Absolute Error`\n",
    "new_dataframe = pd.DataFrame(\n",
    "        columns=['# of Samples', 'Mean Squared Error'])"
   ]
  },
  {
   "cell_type": "code",
   "execution_count": null,
   "metadata": {},
   "outputs": [],
   "source": [
    "list_of_n_samples = [289, 269, 249, 229, 209, 189, 169, 149, 129, 109, 89, 69, 49, 29]\n",
    "\n",
    "test_error_df_list = []\n",
    "for n_sample in list_of_n_samples:\n",
    "    # Filter based on the # of Samples\n",
    "    filtered_csv = my_lasso_results_df[my_lasso_results_df['# of Samples'] == n_sample]\n",
    "\n",
    "    # Get the mean of the `Mean Squared Error` column of the combined csv\n",
    "    mean_mse = filtered_csv['Mean Squared Error'].mean()\n",
    "    mean_ymin = filtered_csv['ymin'].mean()\n",
    "    mean_ymax = filtered_csv['ymax'].mean()\n",
    "\n",
    "    test_error_dict = {'# of Samples': n_sample,\n",
    "                        'Mean Squared Error': mean_mse,\n",
    "                        'ymin': mean_ymin,\n",
    "                        'ymax': mean_ymax,\n",
    "                        'Algorithm': 'Pearson Correlation T2',\n",
    "                        }\n",
    "    test_error_df_list.append(pd.DataFrame(test_error_dict, index=[0]))\n",
    "    \n",
    "new_dataframe = pd.concat(test_error_df_list)\n",
    "print(new_dataframe)"
   ]
  },
  {
   "cell_type": "code",
   "execution_count": null,
   "metadata": {},
   "outputs": [],
   "source": [
    "\n",
    "gg = p9.ggplot(new_dataframe) +\\\n",
    "    p9.aes(x='# of Samples', y='Mean Squared Error', ymin='ymin', ymax='ymax') +\\\n",
    "    p9.geom_point() +\\\n",
    "    p9.geom_ribbon(fill= 'orange', alpha = 0.1) +\\\n",
    "    p9.geom_line(color = 'orange') +\\\n",
    "    p9.ggtitle(\"Pearson Correlation Type-2 Multi-Col Test Error\") \n",
    " \n",
    "    \n",
    "gg.save(\"./my_pearson_plus_T2_w10_2.png\")"
   ]
  },
  {
   "cell_type": "code",
   "execution_count": 9,
   "metadata": {},
   "outputs": [],
   "source": [
    "# Save the new dataframe to a csv file\n",
    "new_dataframe.to_csv('./my_pearson_combined_results.csv', index=False)"
   ]
  }
 ],
 "metadata": {
  "kernelspec": {
   "display_name": "cs685",
   "language": "python",
   "name": "python3"
  },
  "language_info": {
   "codemirror_mode": {
    "name": "ipython",
    "version": 3
   },
   "file_extension": ".py",
   "mimetype": "text/x-python",
   "name": "python",
   "nbconvert_exporter": "python",
   "pygments_lexer": "ipython3",
   "version": "3.9.13"
  },
  "orig_nbformat": 4,
  "vscode": {
   "interpreter": {
    "hash": "6c51af742e141fb8ae370995bc6149e53fca1868e122616bc9da9e07ef681ffa"
   }
  }
 },
 "nbformat": 4,
 "nbformat_minor": 2
}
