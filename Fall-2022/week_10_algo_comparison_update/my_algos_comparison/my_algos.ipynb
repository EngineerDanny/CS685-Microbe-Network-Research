{
 "cells": [
  {
   "cell_type": "code",
   "execution_count": 2,
   "metadata": {},
   "outputs": [],
   "source": [
    "# Combine the csv files into one file\n",
    "# The csv files are from this current directory\n",
    "import glob\n",
    "import os\n",
    "import pandas as pd\n",
    "import numpy as np\n",
    "import plotnine as p9"
   ]
  },
  {
   "cell_type": "code",
   "execution_count": 3,
   "metadata": {},
   "outputs": [],
   "source": [
    "my_lasso_results_df = pd.read_csv(\"./my_lasso_combined_results.csv\")\n",
    "my_pearson_results_df = pd.read_csv(\"./my_pearson_combined_results.csv\")\n",
    "my_pearson_type2_results_df = pd.read_csv(\"./my_pearson_T2_combined_results.csv\")\n",
    "my_featureless_results_df = pd.read_csv(\"./my_featureless_combined_results.csv\")\n",
    "    \n",
    "# combine my_lasso_results_df and my_pearson_results_df into one dataframe\n",
    "my_combined_results_df = pd.concat([my_lasso_results_df, my_pearson_results_df,my_pearson_type2_results_df, my_featureless_results_df], axis=0)"
   ]
  },
  {
   "cell_type": "code",
   "execution_count": 5,
   "metadata": {},
   "outputs": [
    {
     "name": "stderr",
     "output_type": "stream",
     "text": [
      "/home/da2343/.conda/envs/cs685/lib/python3.9/site-packages/plotnine/ggplot.py:718: PlotnineWarning: Saving 6.4 x 4.8 in image.\n",
      "/home/da2343/.conda/envs/cs685/lib/python3.9/site-packages/plotnine/ggplot.py:719: PlotnineWarning: Filename: ./my_combined_algos_2.png\n"
     ]
    }
   ],
   "source": [
    "gg = p9.ggplot(my_combined_results_df) +\\\n",
    "    p9.aes(x='# of Samples', y='Mean Squared Error', ymin=\"ymin\", ymax= \"ymax\",  fill = \"Algorithm\") +\\\n",
    "    p9.geom_line( p9.aes(color = \"Algorithm\") ) +\\\n",
    "    p9.geom_ribbon(alpha = 0.1) +\\\n",
    "    p9.scale_fill_manual(values=[\"green\", \"blue\", \"red\",\"orange\"]) +\\\n",
    "    p9.scale_color_manual(values=[\"green\", \"blue\", \"red\",\"orange\"]) +\\\n",
    "    p9.facet_wrap('~ Algorithm') +\\\n",
    "    p9.ggtitle(\"Multi-Col Test Error\") +\\\n",
    "    p9.xlab(\"# of Samples\") +\\\n",
    "    p9.ylab(\"Mean Squared Error\") \n",
    " \n",
    "gg.save(\"./my_combined_algos_2.png\")"
   ]
  },
  {
   "cell_type": "code",
   "execution_count": 7,
   "metadata": {},
   "outputs": [
    {
     "name": "stderr",
     "output_type": "stream",
     "text": [
      "/home/da2343/.conda/envs/cs685/lib/python3.9/site-packages/plotnine/ggplot.py:718: PlotnineWarning: Saving 6.4 x 4.8 in image.\n",
      "/home/da2343/.conda/envs/cs685/lib/python3.9/site-packages/plotnine/ggplot.py:719: PlotnineWarning: Filename: ./my_combined_algos_1.png\n"
     ]
    }
   ],
   "source": [
    "gg = p9.ggplot(my_combined_results_df) +\\\n",
    "    p9.aes(x='# of Samples', y='Mean Squared Error',  color = \"Algorithm\") +\\\n",
    "    p9.geom_line(p9.aes(color = \"Algorithm\")) +\\\n",
    "    p9.scale_color_manual(values=[\"green\", \"blue\", \"red\" , \"orange\"]) +\\\n",
    "    p9.ggtitle(\"Multi-Col Test Error\") +\\\n",
    "    p9.xlab(\"# of Samples\") +\\\n",
    "    p9.ylab(\"Mean Squared Error\") \n",
    " \n",
    "gg.save(\"./my_combined_algos_1.png\")"
   ]
  },
  {
   "cell_type": "code",
   "execution_count": 8,
   "metadata": {},
   "outputs": [
    {
     "name": "stderr",
     "output_type": "stream",
     "text": [
      "/home/da2343/.conda/envs/cs685/lib/python3.9/site-packages/plotnine/ggplot.py:718: PlotnineWarning: Saving 6.4 x 4.8 in image.\n",
      "/home/da2343/.conda/envs/cs685/lib/python3.9/site-packages/plotnine/ggplot.py:719: PlotnineWarning: Filename: ./my_combined_algos_3.png\n"
     ]
    }
   ],
   "source": [
    "gg = p9.ggplot(my_combined_results_df) +\\\n",
    "    p9.aes(x='# of Samples', y='Mean Squared Error', ymin=\"ymin\", ymax= \"ymax\",  fill = \"Algorithm\") +\\\n",
    "    p9.geom_line( p9.aes(color = \"Algorithm\") ) +\\\n",
    "    p9.geom_ribbon(alpha = 0.1) +\\\n",
    "    p9.scale_fill_manual(values=[\"green\", \"blue\", \"red\", \"orange\"]) +\\\n",
    "    p9.scale_color_manual(values=[\"green\", \"blue\", \"red\", \"orange\"]) +\\\n",
    "    p9.ggtitle(\"Multi-Col Test Error\") +\\\n",
    "    p9.xlab(\"# of Samples\") +\\\n",
    "    p9.ylab(\"Mean Squared Error\") \n",
    " \n",
    "gg.save(\"./my_combined_algos_3.png\")"
   ]
  }
 ],
 "metadata": {
  "kernelspec": {
   "display_name": "cs685",
   "language": "python",
   "name": "python3"
  },
  "language_info": {
   "codemirror_mode": {
    "name": "ipython",
    "version": 3
   },
   "file_extension": ".py",
   "mimetype": "text/x-python",
   "name": "python",
   "nbconvert_exporter": "python",
   "pygments_lexer": "ipython3",
   "version": "3.9.13"
  },
  "orig_nbformat": 4,
  "vscode": {
   "interpreter": {
    "hash": "6c51af742e141fb8ae370995bc6149e53fca1868e122616bc9da9e07ef681ffa"
   }
  }
 },
 "nbformat": 4,
 "nbformat_minor": 2
}
