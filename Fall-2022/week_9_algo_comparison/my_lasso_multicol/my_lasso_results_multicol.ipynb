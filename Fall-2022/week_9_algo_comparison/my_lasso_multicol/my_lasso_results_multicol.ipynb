{
 "cells": [
  {
   "cell_type": "code",
   "execution_count": 2,
   "metadata": {},
   "outputs": [],
   "source": [
    "import glob\n",
    "import os\n",
    "import pandas as pd\n",
    "import numpy as np\n",
    "import plotnine as p9"
   ]
  },
  {
   "cell_type": "code",
   "execution_count": 3,
   "metadata": {},
   "outputs": [],
   "source": [
    "my_lasso_results_df = pd.read_csv(\"./lasso_algorithm_multi_cols_2022-10-31_results.csv\")    \n",
    "  # Make a new dataframe with column names `# of Samples`, `Mean Squared Error`, `Mean Absolute Error`\n",
    "new_dataframe = pd.DataFrame(\n",
    "        columns=['# of Samples', 'Mean Squared Error'])"
   ]
  },
  {
   "cell_type": "code",
   "execution_count": 4,
   "metadata": {},
   "outputs": [
    {
     "name": "stdout",
     "output_type": "stream",
     "text": [
      "289\n",
      "269\n",
      "249\n",
      "229\n",
      "209\n",
      "189\n",
      "169\n",
      "149\n",
      "129\n",
      "109\n",
      "89\n",
      "69\n",
      "49\n",
      "29\n"
     ]
    }
   ],
   "source": [
    "list_of_n_samples = [289, 269, 249, 229, 209, 189, 169, 149, 129, 109, 89, 69, 49, 29]\n",
    "\n",
    "test_error_df_list = []\n",
    "for n_sample in list_of_n_samples:\n",
    "    print(n_sample)\n",
    "    # Filter based on the # of Samples\n",
    "    filtered_csv = my_lasso_results_df[my_lasso_results_df['# of Samples'] == n_sample]\n",
    "\n",
    "    # # Get the mean of the `Mean Squared Error` column of the combined csv\n",
    "    # mean_mse = filtered_csv['Mean Squared Error'].mean()\n",
    "    # print(mean_mse)\n",
    "\n",
    "    # Get the mean of the `Mean Absolute Error` column of the combined csv\n",
    "    # TODO: Change the column name to `Mean Absolute Error`\n",
    "    mean_mse = filtered_csv['Mean Squared Error'].mean()\n",
    "\n",
    "    test_error_dict = {'# of Samples': n_sample,\n",
    "                        'Mean Squared Error': mean_mse }\n",
    "    test_error_df_list.append(pd.DataFrame(test_error_dict, index=[0]))\n",
    "    \n",
    "\n",
    "new_dataframe = pd.concat(test_error_df_list)\n",
    "\n"
   ]
  },
  {
   "cell_type": "code",
   "execution_count": 5,
   "metadata": {},
   "outputs": [
    {
     "name": "stderr",
     "output_type": "stream",
     "text": [
      "/home/da2343/.conda/envs/cs685/lib/python3.9/site-packages/plotnine/ggplot.py:718: PlotnineWarning: Saving 6.4 x 4.8 in image.\n",
      "/home/da2343/.conda/envs/cs685/lib/python3.9/site-packages/plotnine/ggplot.py:719: PlotnineWarning: Filename: ./my_lasso_facetted_plus_w10_2.png\n"
     ]
    }
   ],
   "source": [
    "# Add a title to it\n",
    "# Make x-axis discrete\n",
    "gg = p9.ggplot(new_dataframe, p9.aes(x=\"# of Samples\",\n",
    "                                    y=\"Mean Squared Error\")) +\\\n",
    "p9.geom_line(color='blue')+\\\n",
    "p9.ggtitle(\"Lasso Regression Test Error\")+\\\n",
    "p9.theme_bw()\n",
    "    \n",
    "gg.save(\"./my_lasso_facetted_plus_w10_2.png\")\n"
   ]
  }
 ],
 "metadata": {
  "kernelspec": {
   "display_name": "Python 3.9.12 ('cs685': conda)",
   "language": "python",
   "name": "python3"
  },
  "language_info": {
   "codemirror_mode": {
    "name": "ipython",
    "version": 3
   },
   "file_extension": ".py",
   "mimetype": "text/x-python",
   "name": "python",
   "nbconvert_exporter": "python",
   "pygments_lexer": "ipython3",
   "version": "3.9.13"
  },
  "orig_nbformat": 4,
  "vscode": {
   "interpreter": {
    "hash": "6c51af742e141fb8ae370995bc6149e53fca1868e122616bc9da9e07ef681ffa"
   }
  }
 },
 "nbformat": 4,
 "nbformat_minor": 2
}
